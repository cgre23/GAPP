{
 "cells": [
  {
   "cell_type": "code",
   "execution_count": 11,
   "id": "50e7e628-e1e4-46d9-92a6-b3170320a307",
   "metadata": {},
   "outputs": [],
   "source": [
    "import re\n",
    "import mechanize\n",
    "from lxml import html\n",
    "import os\n",
    "import csv\n",
    "from collections import defaultdict\n",
    "\n",
    "# Import external data\n",
    "from calcs import profileCalc, setupCalc, strategyCalc, wearCalc\n",
    "from funcs import *\n",
    "dicdata = defaultdict(list)"
   ]
  },
  {
   "cell_type": "code",
   "execution_count": 12,
   "id": "96a5159a-5f65-46f4-8bd6-95b62de8f856",
   "metadata": {},
   "outputs": [
    {
     "data": {
      "text/plain": [
       "<response_seek_wrapper at 0x7fe078154880 whose wrapped object = <closeable_response at 0x7fe0981bf6a0 whose fp = <_io.BufferedReader name=66>>>"
      ]
     },
     "execution_count": 12,
     "metadata": {},
     "output_type": "execute_result"
    }
   ],
   "source": [
    "username = 'ferrarimalta'\n",
    "password = 'qwerty123'\n",
    "\n",
    "# Logon to GPRO using the logon information provided and store that under our session\n",
    "browser = mechanize.Browser()\n",
    "browser.open(\"https://gpro.net/gb/Login.asp\")\n",
    "browser.select_form(id=\"Form1\")\n",
    "browser.form[\"textLogin\"] = username\n",
    "browser.form[\"textPassword\"] = password\n",
    "browser.submit()\n"
   ]
  },
  {
   "cell_type": "code",
   "execution_count": 13,
   "id": "009613b7-b937-4b19-a041-ff80766f2e7f",
   "metadata": {},
   "outputs": [
    {
     "name": "stdout",
     "output_type": "stream",
     "text": [
      "Getting Driver information\n"
     ]
    }
   ],
   "source": [
    "print(\"Getting Driver information\")\n",
    "browser.follow_link(url_regex=re.compile(\"DriverProfile\"))\n",
    "tree = html.fromstring(browser.response().get_data())\n",
    "browser.back()\n",
    "driverConcentration = int(tree.xpath(\"normalize-space(//td[contains(@id, 'Conc')]/text())\"))\n",
    "driverTalent = int(tree.xpath(\"normalize-space(//td[contains(@id, 'Talent')]/text())\"))\n",
    "driverAggressiveness = int(tree.xpath(\"normalize-space(//td[contains(@id, 'Aggr')]/text())\"))\n",
    "driverExperience = int(tree.xpath(\"normalize-space(//td[contains(@id, 'Experience')]/text())\"))\n",
    "driverTechnicalInsight = int(tree.xpath(\"normalize-space(//td[contains(@id, 'TechI')]/text())\"))\n",
    "driverWeight = int(tree.xpath(\"normalize-space(//tr[contains(@data-step, '14')]//td/text())\"))\n",
    "driverFactor = (0.998789138 ** driverConcentration) * (0.998751839 ** driverTalent) * (\n",
    "                0.998707677 ** driverExperience)"
   ]
  },
  {
   "cell_type": "code",
   "execution_count": 16,
   "id": "052802b1-e6f5-4454-8149-5b96dd8affec",
   "metadata": {},
   "outputs": [
    {
     "name": "stdout",
     "output_type": "stream",
     "text": [
      "Getting track information\n",
      "Suzuka\n"
     ]
    }
   ],
   "source": [
    "print(\"Getting track information\")\n",
    "browser.follow_link(url_regex=re.compile(\"TrackDetails\"))\n",
    "tree = html.fromstring(browser.response().get_data())\n",
    "browser.back()\n",
    "trackName = str(tree.xpath(\"normalize-space(//h1[contains(@class, 'block')]/text())\"))\n",
    "trackName = trackName.strip()\n",
    "print(trackName)"
   ]
  },
  {
   "cell_type": "code",
   "execution_count": 25,
   "id": "6aa4bde3-701f-477e-8984-fc2bbdbd0e08",
   "metadata": {},
   "outputs": [],
   "source": [
    "# Request the car information page and scrape the car character and part level and wear data\n",
    "browser.follow_link(url_regex=re.compile(\"UpdateCar\"))\n",
    "tree = html.fromstring(browser.response().get_data())\n",
    "browser.back()\n",
    "\n",
    "wearlevelChassis=(int(tree.xpath(\"normalize-space(//b[contains(text(), 'Chassis')]/../../td[2]/text())\")))\n",
    "wearlevelEngine=(int(tree.xpath(\"normalize-space(//b[contains(text(), 'Engine')]/../../td[2]/text())\")))\n",
    "wearlevelFWing=(int(tree.xpath(\"normalize-space(//b[contains(text(), 'Front wing')]/../../td[2]/text())\")))\n",
    "wearlevelRWing=(int(tree.xpath(\"normalize-space(//b[contains(text(), 'Rear wing')]/../../td[2]/text())\")))\n",
    "wearlevelUnderbody=(int(tree.xpath(\"normalize-space(//b[contains(text(), 'Underbody')]/../../td[2]/text())\")))\n",
    "wearlevelSidepods=(int(tree.xpath(\"normalize-space(//b[contains(text(), 'Sidepods')]/../../td[2]/text())\")))\n",
    "wearlevelCooling=(int(tree.xpath(\"normalize-space(//b[contains(text(), 'Cooling')]/../../td[2]/text())\")))\n",
    "wearlevelGearbox=(int(tree.xpath(\"normalize-space(//b[contains(text(), 'Gearbox')]/../../td[2]/text())\")))\n",
    "wearlevelBrakes=(int(tree.xpath(\"normalize-space(//b[contains(text(), 'Brakes')]/../../td[2]/text())\")))\n",
    "wearlevelSuspension=(int(tree.xpath(\"normalize-space(//b[contains(text(), 'Suspension')]/../../td[2]/text())\")))\n",
    "wearlevelElectronics=(int(tree.xpath(\"normalize-space(//b[contains(text(), 'Electronics')]/../../td[2]/text())\")))\n",
    "\n",
    "carWearChassis = str(tree.xpath(\"normalize-space(//b[contains(text(), 'Chassis')]/../../td[4]/text())\"))\n",
    "if (carWearChassis == \"\"):\n",
    "    carWearChassis = str(tree.xpath(\"normalize-space(//b[contains(text(), 'Chassis')]/../../td[4]/font/text())\"))\n",
    "wearChassis=(int((re.findall(r\"\\d+\", carWearChassis))[0]))\n",
    "\n",
    "carWearEngine = str(tree.xpath(\"normalize-space(//b[contains(text(), 'Engine')]/../../td[4]/text())\"))\n",
    "if (carWearEngine == \"\"):\n",
    "    carWearEngine = str(tree.xpath(\"normalize-space(//b[contains(text(), 'Engine')]/../../td[4]/font/text())\"))\n",
    "wearEngine=(int((re.findall(r\"\\d+\", carWearEngine))[0]))\n",
    "\n",
    "carWearFrontWing = str(tree.xpath(\"normalize-space(//b[contains(text(), 'Front wing')]/../../td[4]/text())\"))\n",
    "if (carWearFrontWing == \"\"):\n",
    "    carWearFrontWing = str(tree.xpath(\"normalize-space(//b[contains(text(), 'Front wing')]/../../td[4]/font/text())\"))\n",
    "wearFWing=(int((re.findall(r\"\\d+\", carWearFrontWing))[0]))\n",
    "\n",
    "carWearRearWing = str(tree.xpath(\"normalize-space(//b[contains(text(), 'Rear wing')]/../../td[4]/text())\"))\n",
    "if (carWearRearWing == \"\"):\n",
    "    carWearRearWing = str(tree.xpath(\"normalize-space(//b[contains(text(), 'Rear wing')]/../../td[4]/font/text())\"))\n",
    "wearRWing=(int((re.findall(r\"\\d+\", carWearRearWing))[0]))\n",
    "\n",
    "carWearUnderbody = str(tree.xpath(\"normalize-space(//b[contains(text(), 'Underbody')]/../../td[4]/text())\"))\n",
    "if (carWearUnderbody == \"\"):\n",
    "    carWearUnderbody = str(tree.xpath(\"normalize-space(//b[contains(text(), 'Underbody')]/../../td[4]/font/text())\"))\n",
    "wearUnderbody=(int((re.findall(r\"\\d+\", carWearUnderbody))[0]))\n",
    "\n",
    "carWearSidepod = str(tree.xpath(\"normalize-space(//b[contains(text(), 'Sidepods')]/../../td[4]/text())\"))\n",
    "if (carWearSidepod == \"\"):\n",
    "    carWearSidepod = str(tree.xpath(\"normalize-space(//b[contains(text(), 'Sidepods')]/../../td[4]/font/text())\"))\n",
    "wearSidepods=(int((re.findall(r\"\\d+\", carWearSidepod))[0]))\n",
    "\n",
    "carWearCooling = str(tree.xpath(\"normalize-space(//b[contains(text(), 'Cooling')]/../../td[4]/text())\"))\n",
    "if (carWearCooling == \"\"):\n",
    "    carWearCooling = str(tree.xpath(\"normalize-space(//b[contains(text(), 'Cooling')]/../../td[4]/font/text())\"))\n",
    "wearCooling=(int((re.findall(r\"\\d+\", carWearCooling))[0]))\n",
    "\n",
    "carWearGears = str(tree.xpath(\"normalize-space(//b[contains(text(), 'Gearbox')]/../../td[4]/text())\"))\n",
    "if (carWearGears == \"\"):\n",
    "    carWearGears = str(tree.xpath(\"normalize-space(//b[contains(text(), 'Gearbox')]/../../td[4]/font/text())\"))\n",
    "wearGearbox=(int((re.findall(r\"\\d+\", carWearGears))[0]))\n",
    "\n",
    "carWearBrakes = str(tree.xpath(r\"normalize-space(//b[contains(text(), 'Brakes')]/../../td[4]/text())\"))\n",
    "if (carWearBrakes == \"\"):\n",
    "    carWearBrakes = str(tree.xpath(\"normalize-space(//b[contains(text(), 'Brakes')]/../../td[4]/font/text())\"))\n",
    "wearBrakes=(int((re.findall(r\"\\d+\", carWearBrakes))[0]))\n",
    "\n",
    "carWearSuspension = str(tree.xpath(\"normalize-space(//b[contains(text(), 'Suspension')]/../../td[4]/text())\"))\n",
    "if (carWearSuspension == \"\"):\n",
    "    carWearSuspension = str(tree.xpath(\"normalize-space(//b[contains(text(), 'Suspension')]/../../td[4]/font/text())\"))\n",
    "wearSuspension=(int((re.findall(r\"\\d+\", carWearSuspension))[0]))\n",
    "\n",
    "carWearElectronics = str(tree.xpath(\"normalize-space(//b[contains(text(), 'Electronics')]/../../td[4]/text())\"))\n",
    "if (carWearElectronics == \"\"):\n",
    "    carWearElectronics = str(tree.xpath(\"normalize-space(//b[contains(text(), 'Electronics')]/../../td[4]/font/text())\"))\n",
    "wearElectronics=(int((re.findall(r\"\\d+\", carWearElectronics))[0]))"
   ]
  },
  {
   "cell_type": "code",
   "execution_count": 27,
   "id": "a3eb1c25-65cd-4363-bd9e-8286037712dd",
   "metadata": {},
   "outputs": [],
   "source": [
    "profilePowerTotal=(int(tree.xpath(\"normalize-space(//td[contains(text(), 'Power')]/../../tr[3]/td[1]/text())\")))\n",
    "profileHandlingTotal=(int(tree.xpath(\"normalize-space(//td[contains(text(), 'Power')]/../../tr[3]/td[2]/text())\")))\n",
    "profileAccelerationTotal=(int(tree.xpath(\"normalize-space(//td[contains(text(), 'Power')]/../../tr[3]/td[3]/text())\")))"
   ]
  },
  {
   "cell_type": "code",
   "execution_count": 28,
   "id": "a9b6d4b2-5e47-42ff-a89d-4efc61178d6e",
   "metadata": {},
   "outputs": [
    {
     "data": {
      "text/plain": [
       "0"
      ]
     },
     "execution_count": 28,
     "metadata": {},
     "output_type": "execute_result"
    }
   ],
   "source": [
    "profilePowerTotal"
   ]
  },
  {
   "cell_type": "code",
   "execution_count": null,
   "id": "f7b30d05-f4b9-4d10-b25a-0b3b89100e5e",
   "metadata": {},
   "outputs": [],
   "source": []
  }
 ],
 "metadata": {
  "kernelspec": {
   "display_name": "Python 3",
   "language": "python",
   "name": "python3"
  },
  "language_info": {
   "codemirror_mode": {
    "name": "ipython",
    "version": 3
   },
   "file_extension": ".py",
   "mimetype": "text/x-python",
   "name": "python",
   "nbconvert_exporter": "python",
   "pygments_lexer": "ipython3",
   "version": "3.8.5"
  }
 },
 "nbformat": 4,
 "nbformat_minor": 5
}
