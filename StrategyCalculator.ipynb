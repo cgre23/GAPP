{
 "cells": [
  {
   "cell_type": "markdown",
   "id": "85745023-f6d1-4f36-af3a-ae6571049ef0",
   "metadata": {},
   "source": [
    "## Inputs"
   ]
  },
  {
   "cell_type": "code",
   "execution_count": 1,
   "id": "3fe95d5d-dc48-4f84-b6a9-821b59ce315f",
   "metadata": {},
   "outputs": [],
   "source": [
    "laps = 1\n",
    "wear = 20\n",
    "\n",
    "wearClearTrackRisk = 20\n",
    "\n",
    "weather = 'Dry' \n",
    "#weather = 'Wet'\n",
    "session = 'Q1'\n",
    "#session = 'Q2'\n",
    "#session = 'Race'"
   ]
  },
  {
   "cell_type": "code",
   "execution_count": 2,
   "id": "fa375055-5c67-4120-b628-ac3444ee0b83",
   "metadata": {},
   "outputs": [
    {
     "data": {
      "text/plain": [
       "<response_seek_wrapper at 0x7fca0a3ddfa0 whose wrapped object = <closeable_response at 0x7fca0a3f5550 whose fp = <_io.BufferedReader name=61>>>"
      ]
     },
     "execution_count": 2,
     "metadata": {},
     "output_type": "execute_result"
    }
   ],
   "source": [
    "import re\n",
    "import mechanize\n",
    "from lxml import html\n",
    "import os\n",
    "import csv\n",
    "from collections import defaultdict\n",
    "import pandas as pd\n",
    "from pathlib import Path # For data paths\n",
    "import numpy as np\n",
    "# Import external data\n",
    "from calcs_edited import profileCalc, setupCalc, strategyCalc, wearCalc\n",
    "from funcs import *\n",
    "dicdata = defaultdict(list)\n",
    "\n",
    "dataPath = str(Path.home()) + \"/Documents/GitHub/GAPP/tempfiles\"\n",
    "filename = dataPath + \"/data.dat\"\n",
    "file = open(filename, \"r\")\n",
    "credentialCheck = int(float(file.readline()))\n",
    "username = file.readline().strip()\n",
    "password = file.readline().strip()\n",
    "\n",
    "# Logon to GPRO using the logon information provided and store that under our session\n",
    "browser = mechanize.Browser()\n",
    "browser.open(\"https://gpro.net/gb/Login.asp\")\n",
    "browser.select_form(id=\"Form1\")\n",
    "browser.form[\"textLogin\"] = username\n",
    "browser.form[\"textPassword\"] = password\n",
    "browser.submit()"
   ]
  },
  {
   "cell_type": "markdown",
   "id": "d8846e94-6475-4de4-bbaa-ae91f86bcaa0",
   "metadata": {},
   "source": [
    "## Strategy Calculator"
   ]
  },
  {
   "cell_type": "code",
   "execution_count": 3,
   "id": "cc977451-c645-4364-8293-97e5aca01f66",
   "metadata": {},
   "outputs": [
    {
     "name": "stdout",
     "output_type": "stream",
     "text": [
      "Starting Strategy calculation\n",
      "Getting track information\n"
     ]
    },
    {
     "data": {
      "text/html": [
       "<style  type=\"text/css\" >\n",
       "#T_5033f_row2_col0,#T_5033f_row2_col1,#T_5033f_row2_col2,#T_5033f_row2_col3,#T_5033f_row2_col4,#T_5033f_row2_col5,#T_5033f_row2_col6,#T_5033f_row2_col7{\n",
       "            background:  green;\n",
       "        }</style><table id=\"T_5033f_\" ><thead>    <tr>        <th class=\"blank level0\" ></th>        <th class=\"col_heading level0 col0\" >Stops</th>        <th class=\"col_heading level0 col1\" >Stint Laps</th>        <th class=\"col_heading level0 col2\" >Fuel Load (L)</th>        <th class=\"col_heading level0 col3\" >Pit Time (s)</th>        <th class=\"col_heading level0 col4\" >TC Loss (s)</th>        <th class=\"col_heading level0 col5\" >Fuel Loss (s)</th>        <th class=\"col_heading level0 col6\" >Pit Total (s)</th>        <th class=\"col_heading level0 col7\" >Total (s)</th>    </tr></thead><tbody>\n",
       "                <tr>\n",
       "                        <th id=\"T_5033f_level0_row0\" class=\"row_heading level0 row0\" >Extra Soft</th>\n",
       "                        <td id=\"T_5033f_row0_col0\" class=\"data row0 col0\" >4</td>\n",
       "                        <td id=\"T_5033f_row0_col1\" class=\"data row0 col1\" >11</td>\n",
       "                        <td id=\"T_5033f_row0_col2\" class=\"data row0 col2\" >50</td>\n",
       "                        <td id=\"T_5033f_row0_col3\" class=\"data row0 col3\" >25</td>\n",
       "                        <td id=\"T_5033f_row0_col4\" class=\"data row0 col4\" >0</td>\n",
       "                        <td id=\"T_5033f_row0_col5\" class=\"data row0 col5\" >38</td>\n",
       "                        <td id=\"T_5033f_row0_col6\" class=\"data row0 col6\" >161</td>\n",
       "                        <td id=\"T_5033f_row0_col7\" class=\"data row0 col7\" >199</td>\n",
       "            </tr>\n",
       "            <tr>\n",
       "                        <th id=\"T_5033f_level0_row1\" class=\"row_heading level0 row1\" >Soft</th>\n",
       "                        <td id=\"T_5033f_row1_col0\" class=\"data row1 col0\" >3</td>\n",
       "                        <td id=\"T_5033f_row1_col1\" class=\"data row1 col1\" >14</td>\n",
       "                        <td id=\"T_5033f_row1_col2\" class=\"data row1 col2\" >62</td>\n",
       "                        <td id=\"T_5033f_row1_col3\" class=\"data row1 col3\" >25</td>\n",
       "                        <td id=\"T_5033f_row1_col4\" class=\"data row1 col4\" >16</td>\n",
       "                        <td id=\"T_5033f_row1_col5\" class=\"data row1 col5\" >47</td>\n",
       "                        <td id=\"T_5033f_row1_col6\" class=\"data row1 col6\" >122</td>\n",
       "                        <td id=\"T_5033f_row1_col7\" class=\"data row1 col7\" >186</td>\n",
       "            </tr>\n",
       "            <tr>\n",
       "                        <th id=\"T_5033f_level0_row2\" class=\"row_heading level0 row2\" >Medium</th>\n",
       "                        <td id=\"T_5033f_row2_col0\" class=\"data row2 col0\" >2</td>\n",
       "                        <td id=\"T_5033f_row2_col1\" class=\"data row2 col1\" >18</td>\n",
       "                        <td id=\"T_5033f_row2_col2\" class=\"data row2 col2\" >82</td>\n",
       "                        <td id=\"T_5033f_row2_col3\" class=\"data row2 col3\" >26</td>\n",
       "                        <td id=\"T_5033f_row2_col4\" class=\"data row2 col4\" >33</td>\n",
       "                        <td id=\"T_5033f_row2_col5\" class=\"data row2 col5\" >63</td>\n",
       "                        <td id=\"T_5033f_row2_col6\" class=\"data row2 col6\" >82</td>\n",
       "                        <td id=\"T_5033f_row2_col7\" class=\"data row2 col7\" >180</td>\n",
       "            </tr>\n",
       "            <tr>\n",
       "                        <th id=\"T_5033f_level0_row3\" class=\"row_heading level0 row3\" >Hard</th>\n",
       "                        <td id=\"T_5033f_row3_col0\" class=\"data row3 col0\" >1</td>\n",
       "                        <td id=\"T_5033f_row3_col1\" class=\"data row3 col1\" >27</td>\n",
       "                        <td id=\"T_5033f_row3_col2\" class=\"data row3 col2\" >123</td>\n",
       "                        <td id=\"T_5033f_row3_col3\" class=\"data row3 col3\" >27</td>\n",
       "                        <td id=\"T_5033f_row3_col4\" class=\"data row3 col4\" >50</td>\n",
       "                        <td id=\"T_5033f_row3_col5\" class=\"data row3 col5\" >95</td>\n",
       "                        <td id=\"T_5033f_row3_col6\" class=\"data row3 col6\" >42</td>\n",
       "                        <td id=\"T_5033f_row3_col7\" class=\"data row3 col7\" >189</td>\n",
       "            </tr>\n",
       "            <tr>\n",
       "                        <th id=\"T_5033f_level0_row4\" class=\"row_heading level0 row4\" >Rain</th>\n",
       "                        <td id=\"T_5033f_row4_col0\" class=\"data row4 col0\" >1</td>\n",
       "                        <td id=\"T_5033f_row4_col1\" class=\"data row4 col1\" >27</td>\n",
       "                        <td id=\"T_5033f_row4_col2\" class=\"data row4 col2\" >76</td>\n",
       "                        <td id=\"T_5033f_row4_col3\" class=\"data row4 col3\" >26</td>\n",
       "                        <td id=\"T_5033f_row4_col4\" class=\"data row4 col4\" >0</td>\n",
       "                        <td id=\"T_5033f_row4_col5\" class=\"data row4 col5\" >58</td>\n",
       "                        <td id=\"T_5033f_row4_col6\" class=\"data row4 col6\" >26</td>\n",
       "                        <td id=\"T_5033f_row4_col7\" class=\"data row4 col7\" >84</td>\n",
       "            </tr>\n",
       "    </tbody></table>"
      ],
      "text/plain": [
       "<pandas.io.formats.style.Styler at 0x7fca0a550dc0>"
      ]
     },
     "execution_count": 3,
     "metadata": {},
     "output_type": "execute_result"
    }
   ],
   "source": [
    "lapsUpper=(laps + 1)\n",
    "print(\"Starting Strategy calculation\")\n",
    "strategy = strategyCalc(username, password, wear, laps)\n",
    "stops, stintlaps, fuels, pitTimes, TCDs, FLDs, pitTotals, totals = [], [], [], [], [], [], [], []\n",
    "for i in range(5):\n",
    "    stops.append(strategy[0][i])\n",
    "    stintlaps.append(strategy[1][i])\n",
    "    fuels.append(strategy[2][i])\n",
    "    pitTimes.append(strategy[3][i])\n",
    "    TCDs.append(strategy[4][i])\n",
    "    FLDs.append(strategy[5][i])\n",
    "    pitTotals.append(strategy[6][i])\n",
    "    totals.append(strategy[7][i])\n",
    "lapsFuelLoadLower=(strategy[8][0])\n",
    "lapsFuelLoadUpper=(strategy[8][1])\n",
    "\n",
    "print(\"Getting track information\")\n",
    "GPROnextTrackName=(strategy[10])\n",
    "GPROnextTrackLaps=(strategy[11])\n",
    "GPROnextTrackLapDistance=(strategy[12])\n",
    "GPROnextTrackDistance=(strategy[13])\n",
    "GPROnextTrackPitInOut=(strategy[14])\n",
    "\n",
    "trackList = [GPROnextTrackName, GPROnextTrackLaps, GPROnextTrackLapDistance, GPROnextTrackDistance, GPROnextTrackPitInOut]\n",
    "\n",
    "\n",
    "grid = [stops, stintlaps, fuels, pitTimes, TCDs, FLDs, pitTotals, totals]\n",
    "col=[\"Stops\", \"Stint Laps\", \"Fuel Load (L)\", \"Pit Time (s)\", \"TC Loss (s)\", \"Fuel Loss (s)\", \"Pit Total (s)\", \"Total (s)\"]\n",
    "row=[\"Extra Soft\", \"Soft\", \"Medium\", \"Hard\", \"Rain\"]\n",
    "df_strat = pd.DataFrame(grid).T\n",
    "df_strat=df_strat.astype(float)\n",
    "df_strat.columns = col\n",
    "df_strat.index = row\n",
    "#df_strat=df_strat.style.highlight_min(color = 'lightgreen', axis = 0, subset='Total (s)')\n",
    "df_strat=df_strat.style.apply(lambda x: ['background: green' if x.name in [row[strategy[9]]] \n",
    "                              else '' for i in x], axis=1)\n",
    "df_strat.data = df_strat.data.astype(int)\n",
    "df_strat"
   ]
  },
  {
   "cell_type": "code",
   "execution_count": 4,
   "id": "8cba928b-411b-48f0-8c9f-a354c360e789",
   "metadata": {},
   "outputs": [],
   "source": [
    "dftrack=pd.DataFrame(trackList)\n",
    "track = [\"Track Name\", \"Track Laps\", \"Track Length\", \"Track Distance\", \"PitInOut\"]\n",
    "dftrack.index = track\n",
    "dftrack.columns = ['Info']"
   ]
  },
  {
   "cell_type": "markdown",
   "id": "13393a72-e39a-4ca4-8263-11d38083d8e0",
   "metadata": {},
   "source": [
    "## Wear Calculator"
   ]
  },
  {
   "cell_type": "code",
   "execution_count": 5,
   "id": "727e1f43-16dc-4794-9b84-a8f3c57727ce",
   "metadata": {},
   "outputs": [
    {
     "name": "stdout",
     "output_type": "stream",
     "text": [
      "Getting wear info\n",
      "Getting Driver information\n",
      "Getting track information\n",
      "Calculating and applying car wear\n"
     ]
    }
   ],
   "source": [
    "# Request the car information page and scrape the car character and part level and wear data\n",
    "browser.follow_link(url_regex=re.compile(\"UpdateCar\"))\n",
    "tree = html.fromstring(browser.response().get_data())\n",
    "browser.back()\n",
    "\n",
    "print('Getting wear info')\n",
    "profilePower=(tree.xpath(\"normalize-space(//td[contains(text(), 'Power')]/../../tr[7]/td[1]/text())\"))\n",
    "profileHandling=(tree.xpath(\"normalize-space(//td[contains(text(), 'Power')]/../../tr[7]/td[2]/text())\"))\n",
    "profileAcceleration=(tree.xpath(\"normalize-space(//td[contains(text(), 'Power')]/../../tr[7]/td[3]/text())\"))\n",
    "wearlevelChassis=(int(tree.xpath(\"normalize-space(//b[contains(text(), 'Chassis')]/../../td[2]/text())\")))\n",
    "wearlevelEngine=(int(tree.xpath(\"normalize-space(//b[contains(text(), 'Engine')]/../../td[2]/text())\")))\n",
    "wearlevelFWing=(int(tree.xpath(\"normalize-space(//b[contains(text(), 'Front wing')]/../../td[2]/text())\")))\n",
    "wearlevelRWing=(int(tree.xpath(\"normalize-space(//b[contains(text(), 'Rear wing')]/../../td[2]/text())\")))\n",
    "wearlevelUnderbody=(int(tree.xpath(\"normalize-space(//b[contains(text(), 'Underbody')]/../../td[2]/text())\")))\n",
    "wearlevelSidepods=(int(tree.xpath(\"normalize-space(//b[contains(text(), 'Sidepods')]/../../td[2]/text())\")))\n",
    "wearlevelCooling=(int(tree.xpath(\"normalize-space(//b[contains(text(), 'Cooling')]/../../td[2]/text())\")))\n",
    "wearlevelGearbox=(int(tree.xpath(\"normalize-space(//b[contains(text(), 'Gearbox')]/../../td[2]/text())\")))\n",
    "wearlevelBrakes=(int(tree.xpath(\"normalize-space(//b[contains(text(), 'Brakes')]/../../td[2]/text())\")))\n",
    "wearlevelSuspension=(int(tree.xpath(\"normalize-space(//b[contains(text(), 'Suspension')]/../../td[2]/text())\")))\n",
    "wearlevelElectronics=(int(tree.xpath(\"normalize-space(//b[contains(text(), 'Electronics')]/../../td[2]/text())\")))\n",
    "\n",
    "carWearChassis = str(tree.xpath(\"normalize-space(//b[contains(text(), 'Chassis')]/../../td[4]/text())\"))\n",
    "if (carWearChassis == \"\"):\n",
    "    carWearChassis = str(tree.xpath(\"normalize-space(//b[contains(text(), 'Chassis')]/../../td[4]/font/text())\"))\n",
    "wearChassis=(int((re.findall(r\"\\d+\", carWearChassis))[0]))\n",
    "\n",
    "carWearEngine = str(tree.xpath(\"normalize-space(//b[contains(text(), 'Engine')]/../../td[4]/text())\"))\n",
    "if (carWearEngine == \"\"):\n",
    "    carWearEngine = str(tree.xpath(\"normalize-space(//b[contains(text(), 'Engine')]/../../td[4]/font/text())\"))\n",
    "wearEngine=(int((re.findall(r\"\\d+\", carWearEngine))[0]))\n",
    "\n",
    "carWearFrontWing = str(tree.xpath(\"normalize-space(//b[contains(text(), 'Front wing')]/../../td[4]/text())\"))\n",
    "if (carWearFrontWing == \"\"):\n",
    "    carWearFrontWing = str(tree.xpath(\"normalize-space(//b[contains(text(), 'Front wing')]/../../td[4]/font/text())\"))\n",
    "wearFWing=(int((re.findall(r\"\\d+\", carWearFrontWing))[0]))\n",
    "\n",
    "carWearRearWing = str(tree.xpath(\"normalize-space(//b[contains(text(), 'Rear wing')]/../../td[4]/text())\"))\n",
    "if (carWearRearWing == \"\"):\n",
    "    carWearRearWing = str(tree.xpath(\"normalize-space(//b[contains(text(), 'Rear wing')]/../../td[4]/font/text())\"))\n",
    "wearRWing=(int((re.findall(r\"\\d+\", carWearRearWing))[0]))\n",
    "\n",
    "carWearUnderbody = str(tree.xpath(\"normalize-space(//b[contains(text(), 'Underbody')]/../../td[4]/text())\"))\n",
    "if (carWearUnderbody == \"\"):\n",
    "    carWearUnderbody = str(tree.xpath(\"normalize-space(//b[contains(text(), 'Underbody')]/../../td[4]/font/text())\"))\n",
    "wearUnderbody=(int((re.findall(r\"\\d+\", carWearUnderbody))[0]))\n",
    "\n",
    "carWearSidepod = str(tree.xpath(\"normalize-space(//b[contains(text(), 'Sidepods')]/../../td[4]/text())\"))\n",
    "if (carWearSidepod == \"\"):\n",
    "    carWearSidepod = str(tree.xpath(\"normalize-space(//b[contains(text(), 'Sidepods')]/../../td[4]/font/text())\"))\n",
    "wearSidepods=(int((re.findall(r\"\\d+\", carWearSidepod))[0]))\n",
    "\n",
    "carWearCooling = str(tree.xpath(\"normalize-space(//b[contains(text(), 'Cooling')]/../../td[4]/text())\"))\n",
    "if (carWearCooling == \"\"):\n",
    "    carWearCooling = str(tree.xpath(\"normalize-space(//b[contains(text(), 'Cooling')]/../../td[4]/font/text())\"))\n",
    "wearCooling=(int((re.findall(r\"\\d+\", carWearCooling))[0]))\n",
    "\n",
    "carWearGears = str(tree.xpath(\"normalize-space(//b[contains(text(), 'Gearbox')]/../../td[4]/text())\"))\n",
    "if (carWearGears == \"\"):\n",
    "    carWearGears = str(tree.xpath(\"normalize-space(//b[contains(text(), 'Gearbox')]/../../td[4]/font/text())\"))\n",
    "wearGearbox=(int((re.findall(r\"\\d+\", carWearGears))[0]))\n",
    "\n",
    "carWearBrakes = str(tree.xpath(r\"normalize-space(//b[contains(text(), 'Brakes')]/../../td[4]/text())\"))\n",
    "if (carWearBrakes == \"\"):\n",
    "    carWearBrakes = str(tree.xpath(\"normalize-space(//b[contains(text(), 'Brakes')]/../../td[4]/font/text())\"))\n",
    "wearBrakes=(int((re.findall(r\"\\d+\", carWearBrakes))[0]))\n",
    "\n",
    "carWearSuspension = str(tree.xpath(\"normalize-space(//b[contains(text(), 'Suspension')]/../../td[4]/text())\"))\n",
    "if (carWearSuspension == \"\"):\n",
    "    carWearSuspension = str(tree.xpath(\"normalize-space(//b[contains(text(), 'Suspension')]/../../td[4]/font/text())\"))\n",
    "wearSuspension=(int((re.findall(r\"\\d+\", carWearSuspension))[0]))\n",
    "\n",
    "carWearElectronics = str(tree.xpath(\"normalize-space(//b[contains(text(), 'Electronics')]/../../td[4]/text())\"))\n",
    "if (carWearElectronics == \"\"):\n",
    "    carWearElectronics = str(tree.xpath(\"normalize-space(//b[contains(text(), 'Electronics')]/../../td[4]/font/text())\"))\n",
    "wearElectronics=(int((re.findall(r\"\\d+\", carWearElectronics))[0]))\n",
    "\n",
    "startWears = [wearChassis, wearEngine, wearFWing, wearRWing, wearUnderbody, wearSidepods, wearCooling, wearGearbox,\n",
    "              wearBrakes, wearSuspension, wearElectronics]\n",
    "wearlevels = [wearlevelChassis, wearlevelEngine, wearlevelFWing, wearlevelRWing, wearlevelUnderbody, wearlevelSidepods,\n",
    "              wearlevelCooling, wearlevelGearbox, wearlevelBrakes, wearlevelSuspension, wearlevelElectronics]\n",
    "\n",
    "print(\"Getting Driver information\")\n",
    "browser.follow_link(url_regex=re.compile(\"DriverProfile\"))\n",
    "tree = html.fromstring(browser.response().get_data())\n",
    "browser.back()\n",
    "driverConcentration = int(tree.xpath(\"normalize-space(//td[contains(@id, 'Conc')]/text())\"))\n",
    "driverTalent = int(tree.xpath(\"normalize-space(//td[contains(@id, 'Talent')]/text())\"))\n",
    "driverExperience = int(tree.xpath(\"normalize-space(//td[contains(@id, 'Experience')]/text())\"))\n",
    "driverFactor = (0.998789138 ** driverConcentration) * (0.998751839 ** driverTalent) * (\n",
    "                0.998707677 ** driverExperience)\n",
    "\n",
    "# Get the track details\n",
    "print(\"Getting track information\")\n",
    "browser.follow_link(url_regex=re.compile(\"TrackDetails\"))\n",
    "tree = html.fromstring(browser.response().get_data())\n",
    "browser.back()\n",
    "trackName = str(tree.xpath(\"normalize-space(//h1[contains(@class, 'block')]/text())\"))\n",
    "trackName = trackName.strip()\n",
    "\n",
    "raceWears = []\n",
    "endWears = []\n",
    "print(\"Calculating and applying car wear\")\n",
    "for i in range(len(startWears)):\n",
    "    raceWears.append(round(float(wearCalc(startWears[i], int(wearlevels[i]), driverFactor, trackName,\n",
    "                             wearClearTrackRisk, i)), 2))\n",
    "    endWears.append(int(round(raceWears[i] + round(startWears[i], 0), 0)))\n",
    "\n",
    "df = pd.DataFrame(np.column_stack([wearlevels, startWears, raceWears, endWears]).T, columns=['Chassis', 'Engine', 'FWing', 'RWing', 'Underbody', 'Sidepods', 'Cooling', 'Gearbox',\n",
    "              'Brakes', 'Suspension', 'Electronics'])\n",
    "df=df.astype(int)\n",
    "df=df.rename({0: 'Level', 1: 'Start Wear', 2:'Race Wear', 3: 'End Wear'}, axis='index')\n",
    "df = df.style.apply(lambda x: [\"background: red\" if v > 95 else \"\" for v in x], axis = 1)\n"
   ]
  },
  {
   "cell_type": "code",
   "execution_count": 6,
   "id": "4d3420b9-336d-40c0-b29a-f1c877df0e07",
   "metadata": {},
   "outputs": [
    {
     "data": {
      "text/plain": [
       "'20'"
      ]
     },
     "execution_count": 6,
     "metadata": {},
     "output_type": "execute_result"
    }
   ],
   "source": [
    "profileAcceleration"
   ]
  },
  {
   "cell_type": "markdown",
   "id": "062a97c9-60e3-4ee7-bae1-1f5a9c4102f3",
   "metadata": {},
   "source": [
    "## Setup Calculator"
   ]
  },
  {
   "cell_type": "code",
   "execution_count": 7,
   "id": "ac45f684-7d9b-4332-aa1c-223804be2629",
   "metadata": {},
   "outputs": [
    {
     "name": "stdout",
     "output_type": "stream",
     "text": [
      "Starting Setup calcuation\n",
      "Applying calculated setup\n"
     ]
    }
   ],
   "source": [
    "print(\"Starting Setup calcuation\")\n",
    "setup, temperature = setupCalc(username, password, weather, session)\n",
    "\n",
    "print(\"Applying calculated setup\")\n",
    "frontWing=(str(setup[0]))\n",
    "rearWing=(str(setup[1]))\n",
    "engine=(str(setup[2]))\n",
    "brakes=(str(setup[3]))\n",
    "gear=(str(setup[4]))\n",
    "suspension=(str(setup[5]))\n",
    "\n",
    "df_setup = pd.DataFrame(np.column_stack([setup]).T, columns=['FWing', 'RWing', 'Engine', 'Brakes', 'Gear', 'Suspension'])\n"
   ]
  },
  {
   "cell_type": "code",
   "execution_count": 8,
   "id": "6e81414b-4b42-47a0-a267-5e706b1bfc50",
   "metadata": {},
   "outputs": [
    {
     "data": {
      "text/html": [
       "<style  type=\"text/css\" >\n",
       "</style><table id=\"T_b4ae8_\" ><thead>    <tr>        <th class=\"blank level0\" ></th>        <th class=\"col_heading level0 col0\" >Chassis</th>        <th class=\"col_heading level0 col1\" >Engine</th>        <th class=\"col_heading level0 col2\" >FWing</th>        <th class=\"col_heading level0 col3\" >RWing</th>        <th class=\"col_heading level0 col4\" >Underbody</th>        <th class=\"col_heading level0 col5\" >Sidepods</th>        <th class=\"col_heading level0 col6\" >Cooling</th>        <th class=\"col_heading level0 col7\" >Gearbox</th>        <th class=\"col_heading level0 col8\" >Brakes</th>        <th class=\"col_heading level0 col9\" >Suspension</th>        <th class=\"col_heading level0 col10\" >Electronics</th>    </tr></thead><tbody>\n",
       "                <tr>\n",
       "                        <th id=\"T_b4ae8_level0_row0\" class=\"row_heading level0 row0\" >Level</th>\n",
       "                        <td id=\"T_b4ae8_row0_col0\" class=\"data row0 col0\" >1</td>\n",
       "                        <td id=\"T_b4ae8_row0_col1\" class=\"data row0 col1\" >2</td>\n",
       "                        <td id=\"T_b4ae8_row0_col2\" class=\"data row0 col2\" >1</td>\n",
       "                        <td id=\"T_b4ae8_row0_col3\" class=\"data row0 col3\" >1</td>\n",
       "                        <td id=\"T_b4ae8_row0_col4\" class=\"data row0 col4\" >1</td>\n",
       "                        <td id=\"T_b4ae8_row0_col5\" class=\"data row0 col5\" >1</td>\n",
       "                        <td id=\"T_b4ae8_row0_col6\" class=\"data row0 col6\" >1</td>\n",
       "                        <td id=\"T_b4ae8_row0_col7\" class=\"data row0 col7\" >2</td>\n",
       "                        <td id=\"T_b4ae8_row0_col8\" class=\"data row0 col8\" >2</td>\n",
       "                        <td id=\"T_b4ae8_row0_col9\" class=\"data row0 col9\" >1</td>\n",
       "                        <td id=\"T_b4ae8_row0_col10\" class=\"data row0 col10\" >1</td>\n",
       "            </tr>\n",
       "            <tr>\n",
       "                        <th id=\"T_b4ae8_level0_row1\" class=\"row_heading level0 row1\" >Start Wear</th>\n",
       "                        <td id=\"T_b4ae8_row1_col0\" class=\"data row1 col0\" >55</td>\n",
       "                        <td id=\"T_b4ae8_row1_col1\" class=\"data row1 col1\" >47</td>\n",
       "                        <td id=\"T_b4ae8_row1_col2\" class=\"data row1 col2\" >66</td>\n",
       "                        <td id=\"T_b4ae8_row1_col3\" class=\"data row1 col3\" >64</td>\n",
       "                        <td id=\"T_b4ae8_row1_col4\" class=\"data row1 col4\" >56</td>\n",
       "                        <td id=\"T_b4ae8_row1_col5\" class=\"data row1 col5\" >57</td>\n",
       "                        <td id=\"T_b4ae8_row1_col6\" class=\"data row1 col6\" >64</td>\n",
       "                        <td id=\"T_b4ae8_row1_col7\" class=\"data row1 col7\" >0</td>\n",
       "                        <td id=\"T_b4ae8_row1_col8\" class=\"data row1 col8\" >0</td>\n",
       "                        <td id=\"T_b4ae8_row1_col9\" class=\"data row1 col9\" >64</td>\n",
       "                        <td id=\"T_b4ae8_row1_col10\" class=\"data row1 col10\" >39</td>\n",
       "            </tr>\n",
       "            <tr>\n",
       "                        <th id=\"T_b4ae8_level0_row2\" class=\"row_heading level0 row2\" >Race Wear</th>\n",
       "                        <td id=\"T_b4ae8_row2_col0\" class=\"data row2 col0\" >16</td>\n",
       "                        <td id=\"T_b4ae8_row2_col1\" class=\"data row2 col1\" >26</td>\n",
       "                        <td id=\"T_b4ae8_row2_col2\" class=\"data row2 col2\" >21</td>\n",
       "                        <td id=\"T_b4ae8_row2_col3\" class=\"data row2 col3\" >27</td>\n",
       "                        <td id=\"T_b4ae8_row2_col4\" class=\"data row2 col4\" >22</td>\n",
       "                        <td id=\"T_b4ae8_row2_col5\" class=\"data row2 col5\" >14</td>\n",
       "                        <td id=\"T_b4ae8_row2_col6\" class=\"data row2 col6\" >13</td>\n",
       "                        <td id=\"T_b4ae8_row2_col7\" class=\"data row2 col7\" >30</td>\n",
       "                        <td id=\"T_b4ae8_row2_col8\" class=\"data row2 col8\" >23</td>\n",
       "                        <td id=\"T_b4ae8_row2_col9\" class=\"data row2 col9\" >30</td>\n",
       "                        <td id=\"T_b4ae8_row2_col10\" class=\"data row2 col10\" >14</td>\n",
       "            </tr>\n",
       "            <tr>\n",
       "                        <th id=\"T_b4ae8_level0_row3\" class=\"row_heading level0 row3\" >End Wear</th>\n",
       "                        <td id=\"T_b4ae8_row3_col0\" class=\"data row3 col0\" >72</td>\n",
       "                        <td id=\"T_b4ae8_row3_col1\" class=\"data row3 col1\" >74</td>\n",
       "                        <td id=\"T_b4ae8_row3_col2\" class=\"data row3 col2\" >87</td>\n",
       "                        <td id=\"T_b4ae8_row3_col3\" class=\"data row3 col3\" >92</td>\n",
       "                        <td id=\"T_b4ae8_row3_col4\" class=\"data row3 col4\" >79</td>\n",
       "                        <td id=\"T_b4ae8_row3_col5\" class=\"data row3 col5\" >72</td>\n",
       "                        <td id=\"T_b4ae8_row3_col6\" class=\"data row3 col6\" >78</td>\n",
       "                        <td id=\"T_b4ae8_row3_col7\" class=\"data row3 col7\" >30</td>\n",
       "                        <td id=\"T_b4ae8_row3_col8\" class=\"data row3 col8\" >24</td>\n",
       "                        <td id=\"T_b4ae8_row3_col9\" class=\"data row3 col9\" >95</td>\n",
       "                        <td id=\"T_b4ae8_row3_col10\" class=\"data row3 col10\" >54</td>\n",
       "            </tr>\n",
       "    </tbody></table>"
      ],
      "text/plain": [
       "<pandas.io.formats.style.Styler at 0x7fc9f8817c10>"
      ]
     },
     "execution_count": 8,
     "metadata": {},
     "output_type": "execute_result"
    }
   ],
   "source": [
    "df"
   ]
  },
  {
   "cell_type": "code",
   "execution_count": 9,
   "id": "3a73cd52-da0e-4023-a6c3-bd943a3cbc31",
   "metadata": {},
   "outputs": [
    {
     "data": {
      "text/html": [
       "<div>\n",
       "<style scoped>\n",
       "    .dataframe tbody tr th:only-of-type {\n",
       "        vertical-align: middle;\n",
       "    }\n",
       "\n",
       "    .dataframe tbody tr th {\n",
       "        vertical-align: top;\n",
       "    }\n",
       "\n",
       "    .dataframe thead th {\n",
       "        text-align: right;\n",
       "    }\n",
       "</style>\n",
       "<table border=\"1\" class=\"dataframe\">\n",
       "  <thead>\n",
       "    <tr style=\"text-align: right;\">\n",
       "      <th></th>\n",
       "      <th>FWing</th>\n",
       "      <th>RWing</th>\n",
       "      <th>Engine</th>\n",
       "      <th>Brakes</th>\n",
       "      <th>Gear</th>\n",
       "      <th>Suspension</th>\n",
       "    </tr>\n",
       "  </thead>\n",
       "  <tbody>\n",
       "    <tr>\n",
       "      <th>0</th>\n",
       "      <td>422</td>\n",
       "      <td>542</td>\n",
       "      <td>628</td>\n",
       "      <td>566</td>\n",
       "      <td>435</td>\n",
       "      <td>575</td>\n",
       "    </tr>\n",
       "  </tbody>\n",
       "</table>\n",
       "</div>"
      ],
      "text/plain": [
       "   FWing  RWing  Engine  Brakes  Gear  Suspension\n",
       "0    422    542     628     566   435         575"
      ]
     },
     "execution_count": 9,
     "metadata": {},
     "output_type": "execute_result"
    }
   ],
   "source": [
    "df_setup"
   ]
  },
  {
   "cell_type": "code",
   "execution_count": 10,
   "id": "1c39fed3-7ee2-4daa-a553-c53fed805119",
   "metadata": {},
   "outputs": [
    {
     "data": {
      "text/html": [
       "<style  type=\"text/css\" >\n",
       "#T_5033f_row2_col0,#T_5033f_row2_col1,#T_5033f_row2_col2,#T_5033f_row2_col3,#T_5033f_row2_col4,#T_5033f_row2_col5,#T_5033f_row2_col6,#T_5033f_row2_col7{\n",
       "            background:  green;\n",
       "            background:  green;\n",
       "        }</style><table id=\"T_5033f_\" ><thead>    <tr>        <th class=\"blank level0\" ></th>        <th class=\"col_heading level0 col0\" >Stops</th>        <th class=\"col_heading level0 col1\" >Stint Laps</th>        <th class=\"col_heading level0 col2\" >Fuel Load (L)</th>        <th class=\"col_heading level0 col3\" >Pit Time (s)</th>        <th class=\"col_heading level0 col4\" >TC Loss (s)</th>        <th class=\"col_heading level0 col5\" >Fuel Loss (s)</th>        <th class=\"col_heading level0 col6\" >Pit Total (s)</th>        <th class=\"col_heading level0 col7\" >Total (s)</th>    </tr></thead><tbody>\n",
       "                <tr>\n",
       "                        <th id=\"T_5033f_level0_row0\" class=\"row_heading level0 row0\" >Extra Soft</th>\n",
       "                        <td id=\"T_5033f_row0_col0\" class=\"data row0 col0\" >4</td>\n",
       "                        <td id=\"T_5033f_row0_col1\" class=\"data row0 col1\" >11</td>\n",
       "                        <td id=\"T_5033f_row0_col2\" class=\"data row0 col2\" >50</td>\n",
       "                        <td id=\"T_5033f_row0_col3\" class=\"data row0 col3\" >25</td>\n",
       "                        <td id=\"T_5033f_row0_col4\" class=\"data row0 col4\" >0</td>\n",
       "                        <td id=\"T_5033f_row0_col5\" class=\"data row0 col5\" >38</td>\n",
       "                        <td id=\"T_5033f_row0_col6\" class=\"data row0 col6\" >161</td>\n",
       "                        <td id=\"T_5033f_row0_col7\" class=\"data row0 col7\" >199</td>\n",
       "            </tr>\n",
       "            <tr>\n",
       "                        <th id=\"T_5033f_level0_row1\" class=\"row_heading level0 row1\" >Soft</th>\n",
       "                        <td id=\"T_5033f_row1_col0\" class=\"data row1 col0\" >3</td>\n",
       "                        <td id=\"T_5033f_row1_col1\" class=\"data row1 col1\" >14</td>\n",
       "                        <td id=\"T_5033f_row1_col2\" class=\"data row1 col2\" >62</td>\n",
       "                        <td id=\"T_5033f_row1_col3\" class=\"data row1 col3\" >25</td>\n",
       "                        <td id=\"T_5033f_row1_col4\" class=\"data row1 col4\" >16</td>\n",
       "                        <td id=\"T_5033f_row1_col5\" class=\"data row1 col5\" >47</td>\n",
       "                        <td id=\"T_5033f_row1_col6\" class=\"data row1 col6\" >122</td>\n",
       "                        <td id=\"T_5033f_row1_col7\" class=\"data row1 col7\" >186</td>\n",
       "            </tr>\n",
       "            <tr>\n",
       "                        <th id=\"T_5033f_level0_row2\" class=\"row_heading level0 row2\" >Medium</th>\n",
       "                        <td id=\"T_5033f_row2_col0\" class=\"data row2 col0\" >2</td>\n",
       "                        <td id=\"T_5033f_row2_col1\" class=\"data row2 col1\" >18</td>\n",
       "                        <td id=\"T_5033f_row2_col2\" class=\"data row2 col2\" >82</td>\n",
       "                        <td id=\"T_5033f_row2_col3\" class=\"data row2 col3\" >26</td>\n",
       "                        <td id=\"T_5033f_row2_col4\" class=\"data row2 col4\" >33</td>\n",
       "                        <td id=\"T_5033f_row2_col5\" class=\"data row2 col5\" >63</td>\n",
       "                        <td id=\"T_5033f_row2_col6\" class=\"data row2 col6\" >82</td>\n",
       "                        <td id=\"T_5033f_row2_col7\" class=\"data row2 col7\" >180</td>\n",
       "            </tr>\n",
       "            <tr>\n",
       "                        <th id=\"T_5033f_level0_row3\" class=\"row_heading level0 row3\" >Hard</th>\n",
       "                        <td id=\"T_5033f_row3_col0\" class=\"data row3 col0\" >1</td>\n",
       "                        <td id=\"T_5033f_row3_col1\" class=\"data row3 col1\" >27</td>\n",
       "                        <td id=\"T_5033f_row3_col2\" class=\"data row3 col2\" >123</td>\n",
       "                        <td id=\"T_5033f_row3_col3\" class=\"data row3 col3\" >27</td>\n",
       "                        <td id=\"T_5033f_row3_col4\" class=\"data row3 col4\" >50</td>\n",
       "                        <td id=\"T_5033f_row3_col5\" class=\"data row3 col5\" >95</td>\n",
       "                        <td id=\"T_5033f_row3_col6\" class=\"data row3 col6\" >42</td>\n",
       "                        <td id=\"T_5033f_row3_col7\" class=\"data row3 col7\" >189</td>\n",
       "            </tr>\n",
       "            <tr>\n",
       "                        <th id=\"T_5033f_level0_row4\" class=\"row_heading level0 row4\" >Rain</th>\n",
       "                        <td id=\"T_5033f_row4_col0\" class=\"data row4 col0\" >1</td>\n",
       "                        <td id=\"T_5033f_row4_col1\" class=\"data row4 col1\" >27</td>\n",
       "                        <td id=\"T_5033f_row4_col2\" class=\"data row4 col2\" >76</td>\n",
       "                        <td id=\"T_5033f_row4_col3\" class=\"data row4 col3\" >26</td>\n",
       "                        <td id=\"T_5033f_row4_col4\" class=\"data row4 col4\" >0</td>\n",
       "                        <td id=\"T_5033f_row4_col5\" class=\"data row4 col5\" >58</td>\n",
       "                        <td id=\"T_5033f_row4_col6\" class=\"data row4 col6\" >26</td>\n",
       "                        <td id=\"T_5033f_row4_col7\" class=\"data row4 col7\" >84</td>\n",
       "            </tr>\n",
       "    </tbody></table>"
      ],
      "text/plain": [
       "<pandas.io.formats.style.Styler at 0x7fca0a550dc0>"
      ]
     },
     "execution_count": 10,
     "metadata": {},
     "output_type": "execute_result"
    }
   ],
   "source": [
    "df_strat"
   ]
  },
  {
   "cell_type": "code",
   "execution_count": 11,
   "id": "a1b6323e-4881-4751-a450-55b9e1d7380a",
   "metadata": {},
   "outputs": [
    {
     "data": {
      "text/html": [
       "<div>\n",
       "<style scoped>\n",
       "    .dataframe tbody tr th:only-of-type {\n",
       "        vertical-align: middle;\n",
       "    }\n",
       "\n",
       "    .dataframe tbody tr th {\n",
       "        vertical-align: top;\n",
       "    }\n",
       "\n",
       "    .dataframe thead th {\n",
       "        text-align: right;\n",
       "    }\n",
       "</style>\n",
       "<table border=\"1\" class=\"dataframe\">\n",
       "  <thead>\n",
       "    <tr style=\"text-align: right;\">\n",
       "      <th></th>\n",
       "      <th>Info</th>\n",
       "    </tr>\n",
       "  </thead>\n",
       "  <tbody>\n",
       "    <tr>\n",
       "      <th>Track Name</th>\n",
       "      <td>Suzuka</td>\n",
       "    </tr>\n",
       "    <tr>\n",
       "      <th>Track Laps</th>\n",
       "      <td>53</td>\n",
       "    </tr>\n",
       "    <tr>\n",
       "      <th>Track Length</th>\n",
       "      <td>5.86 km</td>\n",
       "    </tr>\n",
       "    <tr>\n",
       "      <th>Track Distance</th>\n",
       "      <td>310.6km</td>\n",
       "    </tr>\n",
       "    <tr>\n",
       "      <th>PitInOut</th>\n",
       "      <td>15.0</td>\n",
       "    </tr>\n",
       "  </tbody>\n",
       "</table>\n",
       "</div>"
      ],
      "text/plain": [
       "                   Info\n",
       "Track Name       Suzuka\n",
       "Track Laps           53\n",
       "Track Length    5.86 km\n",
       "Track Distance  310.6km\n",
       "PitInOut           15.0"
      ]
     },
     "execution_count": 11,
     "metadata": {},
     "output_type": "execute_result"
    }
   ],
   "source": [
    "dftrack\n"
   ]
  },
  {
   "cell_type": "code",
   "execution_count": 12,
   "id": "dd0f41b4-a2e4-4b9d-bfb2-0505c519026d",
   "metadata": {},
   "outputs": [
    {
     "name": "stdout",
     "output_type": "stream",
     "text": [
      "5 L\n"
     ]
    }
   ],
   "source": [
    "print(lapsFuelLoadLower)"
   ]
  },
  {
   "cell_type": "markdown",
   "id": "beba6d6e-0d30-4c0b-b423-d4bec4f50c91",
   "metadata": {},
   "source": [
    "Temperature\tHumidity\tPower\tHandling\tAcceleration\tDriver Overall\tDriver Energy\tDriver Concentration\tDriver Talent\tDriver Aggressiveness\tDriver Experience\tDriver Technical Insight\tDriver Stamina\tDriver Charisma\tDriver Motivation\tDriver Reputation\tDriver Weight\tDriver Age\tChassis Level\tChassis Wear\tEngine Level\tEngine Wear\tFront Wing Level\tFront Wing Wear\tRear Wing Level\tRear Wing Wear\tUnderbody Level\tUnderbody Wear\tSidepods Level\tSidepods Wear\tCooling Level\tCooling Wear\tGearbox Level\tGearbox Wear\tBrakes Level\tBrakes Wear\tSuspension Level\tSuspension Wear\tElectronics Level\tElectronics Wear\tTrack_Suzuka\tTrack_Jeddah\tQ1/Q2 Tyre Compound_Extra Soft / Extra Soft\tQ1/Q2 Tyre Compound_Hard / Hard\tQ1/Q2 Tyre Compound_Medium / Medium\tQ1/Q2 Tyre Compound_Rain / Rain\tQ1/Q2 Tyre Compound_Rain / Soft\tQ1/Q2 Tyre Compound_Soft / Soft\tDivision_Amateur\tDivision_Rookie"
   ]
  },
  {
   "cell_type": "code",
   "execution_count": 13,
   "id": "933b7562-24cb-40b6-9112-05931f2bdedc",
   "metadata": {},
   "outputs": [],
   "source": [
    "Data = [temperature]"
   ]
  },
  {
   "cell_type": "code",
   "execution_count": 14,
   "id": "7920f5bd-ded3-47c9-a7be-441af346819d",
   "metadata": {},
   "outputs": [
    {
     "data": {
      "text/plain": [
       "[28]"
      ]
     },
     "execution_count": 14,
     "metadata": {},
     "output_type": "execute_result"
    }
   ],
   "source": [
    "Data"
   ]
  },
  {
   "cell_type": "code",
   "execution_count": 16,
   "id": "8c75d8d4-1ac6-4c64-b470-8ec897d13936",
   "metadata": {},
   "outputs": [],
   "source": [
    "# Request race strategy pace and scrape the race weather data\n",
    "browser.follow_link(url_regex=re.compile(\"RaceSetup\"))\n",
    "tree = html.fromstring(browser.response().get_data())\n",
    "browser.back()\n",
    "\n",
    "rTempRangeOne = str(tree.xpath(\"normalize-space(//td[contains(text(), 'Temp')]/../../tr[2]/td[1]/text())\"))\n",
    "rTempRangeTwo = str(tree.xpath(\"normalize-space(//td[contains(text(), 'Temp')]/../../tr[2]/td[2]/text())\"))\n",
    "rTempRangeThree = str(tree.xpath(\"normalize-space(//td[contains(text(), 'Temp')]/../../tr[4]/td[1]/text())\"))\n",
    "rTempRangeFour = str(tree.xpath(\"normalize-space(//td[contains(text(), 'Temp')]/../../tr[4]/td[2]/text())\"))\n",
    "rHumRangeOne = str(tree.xpath(\"normalize-space(//td[contains(text(), 'Humidity')]/../../tr[2]/td[1]/text())\"))\n",
    "rHumRangeTwo = str(tree.xpath(\"normalize-space(//td[contains(text(), 'Humidity')]/../../tr[2]/td[2]/text())\"))\n",
    "rHumRangeThree = str(tree.xpath(\"normalize-space(//td[contains(text(), 'Humidity')]/../../tr[4]/td[1]/text())\"))\n",
    "rHumRangeFour = str(tree.xpath(\"normalize-space(//td[contains(text(), 'Humidity')]/../../tr[4]/td[2]/text())\"))"
   ]
  },
  {
   "cell_type": "code",
   "execution_count": null,
   "id": "6ffb2954-eeed-4b85-a910-97e8e9eafd23",
   "metadata": {},
   "outputs": [],
   "source": []
  }
 ],
 "metadata": {
  "kernelspec": {
   "display_name": "Python 3",
   "language": "python",
   "name": "python3"
  },
  "language_info": {
   "codemirror_mode": {
    "name": "ipython",
    "version": 3
   },
   "file_extension": ".py",
   "mimetype": "text/x-python",
   "name": "python",
   "nbconvert_exporter": "python",
   "pygments_lexer": "ipython3",
   "version": "3.8.5"
  }
 },
 "nbformat": 4,
 "nbformat_minor": 5
}
